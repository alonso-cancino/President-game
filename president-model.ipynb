{
 "cells": [
  {
   "cell_type": "code",
   "execution_count": 1,
   "id": "a7bdcf40",
   "metadata": {},
   "outputs": [],
   "source": [
    "import random\n",
    "import numpy as np"
   ]
  },
  {
   "cell_type": "code",
   "execution_count": 10,
   "id": "2e0aea16",
   "metadata": {},
   "outputs": [],
   "source": [
    "def init_deck():\n",
    "    deck = []\n",
    "    for suit in ['b','c','e','o']:\n",
    "        for number in range(10):\n",
    "            deck.append(str(number)+'-'+suit)\n",
    "    return deck\n",
    "\n",
    "# test \n",
    "# init_deck()\n",
    "\n",
    "def deal_cards(agent_lst, seed=None):\n",
    "    random.seed(seed)\n",
    "    deck = init_deck()\n",
    "    for agent in agent_lst:\n",
    "        dealt_hand = random.sample(deck, 40 // len(agent_lst))\n",
    "        deck = [card for card in deck if card not in dealt_hand]\n",
    "        agent.hand = dealt_hand\n",
    "    return agent_lst\n",
    "\n",
    "# test\n",
    "# n_players = 4\n",
    "# agent_lst = []\n",
    "# for player in range(n_players):\n",
    "#     agent_lst.append(agent())\n",
    "# deal_cards(agent_lst)\n",
    "# print([agent.hand for agent in agent_lst])\n",
    "\n",
    "def valid_actions(agent,raw_state):\n",
    "    raw_state = game.raw_state\n",
    "    if is_active_player(agent):\n",
    "        pass\n",
    "    else:\n",
    "        print(f'Agent {agent.index} is not the active player.')\n",
    "        "
   ]
  },
  {
   "cell_type": "code",
   "execution_count": 2,
   "id": "89efc3d4",
   "metadata": {},
   "outputs": [],
   "source": [
    "class agent:\n",
    "    def __init__(self):\n",
    "        self.hand = []\n",
    "\n",
    "class president(gym.Env):\n",
    "    \n",
    "    def __init__(self,n_players):\n",
    "        super().__init__()\n",
    "        self.raw_state = {}\n",
    "        self.observation_space = spaces.Discrete(self.obs_size(n_players))\n",
    "        self.action_space = spaces.Discrete(self.act_size(n_players))\n",
    "    \n",
    "    def reset(self):\n",
    "        raw_state['stack'] = None\n",
    "        raw_state['agents'] = [agent() for k in range(n_players)]\n",
    "        \n",
    "    \n",
    "    def obs_size(self,n_players):\n",
    "        \n",
    "    def act_size(self,n_players):\n",
    "        return 41\n",
    "        \n"
   ]
  },
  {
   "cell_type": "code",
   "execution_count": null,
   "id": "bbcce98a",
   "metadata": {},
   "outputs": [],
   "source": []
  }
 ],
 "metadata": {
  "kernelspec": {
   "display_name": "Python 3 (ipykernel)",
   "language": "python",
   "name": "python3"
  },
  "language_info": {
   "codemirror_mode": {
    "name": "ipython",
    "version": 3
   },
   "file_extension": ".py",
   "mimetype": "text/x-python",
   "name": "python",
   "nbconvert_exporter": "python",
   "pygments_lexer": "ipython3",
   "version": "3.8.13"
  }
 },
 "nbformat": 4,
 "nbformat_minor": 5
}
