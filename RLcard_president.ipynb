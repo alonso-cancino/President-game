{
 "cells": [
  {
   "cell_type": "code",
   "execution_count": 1,
   "id": "e67c3afa",
   "metadata": {},
   "outputs": [],
   "source": [
    "import rlcard"
   ]
  },
  {
   "cell_type": "code",
   "execution_count": 2,
   "id": "f36629ee",
   "metadata": {},
   "outputs": [
    {
     "name": "stdout",
     "output_type": "stream",
     "text": [
      "2\n",
      "1\n",
      "[[2]]\n",
      "[None]\n"
     ]
    }
   ],
   "source": [
    "import rlcard\n",
    "from rlcard.agents import RandomAgent\n",
    "\n",
    "env = rlcard.make('blackjack')\n",
    "env.set_agents([RandomAgent(num_actions=env.num_actions)])\n",
    "\n",
    "print(env.num_actions) # 2\n",
    "print(env.num_players) # 1\n",
    "print(env.state_shape) # [[2]]\n",
    "print(env.action_shape) # [None]\n",
    "\n",
    "trajectories, payoffs = env.run()"
   ]
  },
  {
   "cell_type": "code",
   "execution_count": 6,
   "id": "1bddd82f",
   "metadata": {},
   "outputs": [
    {
     "data": {
      "text/plain": [
       "array([-1])"
      ]
     },
     "execution_count": 6,
     "metadata": {},
     "output_type": "execute_result"
    }
   ],
   "source": [
    "payoffs"
   ]
  },
  {
   "cell_type": "code",
   "execution_count": 9,
   "id": "885aed1b",
   "metadata": {},
   "outputs": [
    {
     "name": "stdout",
     "output_type": "stream",
     "text": [
      "[[{'obs': array([ 9, 10]), 'legal_actions': OrderedDict([(0, None), (1, None)]), 'raw_obs': {'actions': ('hit', 'stand'), 'player0 hand': ['D3', 'C6'], 'dealer hand': ['CK'], 'state': (['D3', 'C6'], ['CK'])}, 'raw_legal_actions': ['hit', 'stand'], 'action_record': [(0, 'stand')]}, 1, {'obs': array([ 9, 24]), 'legal_actions': OrderedDict([(0, None), (1, None)]), 'raw_obs': {'actions': ('hit', 'stand'), 'player0 hand': ['D3', 'C6'], 'dealer hand': ['C2', 'CK', 'S2', 'ST'], 'state': (['D3', 'C6'], ['C2', 'CK', 'S2', 'ST'])}, 'raw_legal_actions': ['hit', 'stand'], 'action_record': [(0, 'stand')]}]]\n",
      "[1]\n"
     ]
    }
   ],
   "source": [
    "trajectories, payoffs = env.run()\n",
    "print(trajectories)\n",
    "print(payoffs)"
   ]
  },
  {
   "cell_type": "code",
   "execution_count": null,
   "id": "35d9a3d0",
   "metadata": {},
   "outputs": [],
   "source": []
  }
 ],
 "metadata": {
  "kernelspec": {
   "display_name": "Python 3 (ipykernel)",
   "language": "python",
   "name": "python3"
  },
  "language_info": {
   "codemirror_mode": {
    "name": "ipython",
    "version": 3
   },
   "file_extension": ".py",
   "mimetype": "text/x-python",
   "name": "python",
   "nbconvert_exporter": "python",
   "pygments_lexer": "ipython3",
   "version": "3.8.13"
  }
 },
 "nbformat": 4,
 "nbformat_minor": 5
}
