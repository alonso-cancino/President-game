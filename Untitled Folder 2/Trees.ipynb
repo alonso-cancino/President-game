{
 "cells": [
  {
   "cell_type": "code",
   "execution_count": null,
   "id": "0177c07b",
   "metadata": {},
   "outputs": [],
   "source": [
    "import networkx as nx\n",
    "import random"
   ]
  },
  {
   "cell_type": "code",
   "execution_count": null,
   "id": "5ff43796",
   "metadata": {},
   "outputs": [],
   "source": [
    "class awt:\n",
    "    def __init__(self,n):\n",
    "        self.n = n\n",
    "    \n",
    "        self.und_tree = nx.random_tree(n)\n",
    "    def\n"
   ]
  },
  {
   "cell_type": "code",
   "execution_count": null,
   "id": "d58f6a4b",
   "metadata": {},
   "outputs": [],
   "source": [
    "RANDOM_SEED = 1234\n",
    "random.seed(RANDOM_SEED)\n",
    "\n",
    "def n_vertices(episode):\n",
    "    return episode\n",
    "\n"
   ]
  }
 ],
 "metadata": {
  "kernelspec": {
   "display_name": "Python 3 (ipykernel)",
   "language": "python",
   "name": "python3"
  },
  "language_info": {
   "codemirror_mode": {
    "name": "ipython",
    "version": 3
   },
   "file_extension": ".py",
   "mimetype": "text/x-python",
   "name": "python",
   "nbconvert_exporter": "python",
   "pygments_lexer": "ipython3",
   "version": "3.8.13"
  }
 },
 "nbformat": 4,
 "nbformat_minor": 5
}
