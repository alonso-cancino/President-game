{
 "cells": [
  {
   "cell_type": "code",
   "execution_count": 71,
   "id": "939d93eb",
   "metadata": {},
   "outputs": [],
   "source": [
    "import random\n",
    "from itertools import combinations,chain\n",
    "import numpy as np\n",
    "import gym\n",
    "from gym import spaces\n",
    "\n",
    "def powerset(iterable):\n",
    "    s = list(iterable)\n",
    "    return chain.from_iterable(combinations(s, r) for r in range(len(s)+1))"
   ]
  },
  {
   "cell_type": "code",
   "execution_count": 75,
   "id": "804b045c",
   "metadata": {},
   "outputs": [],
   "source": [
    "########################################################################################################\n",
    "\n",
    "# generates a deck of a given size with at most 4 suits and at most 10 numbers\n",
    "\n",
    "def init_deck(numbers,max_suits):\n",
    "    suits = ['O','E','B','C']\n",
    "    deck = []\n",
    "    for number in range(numbers):\n",
    "        for suit_ind in range(max_suits):\n",
    "            deck.append(str(number)+'-'+suits[suit_ind])\n",
    "    return deck, list(range(numbers)), suits[:max_suits]\n",
    "\n",
    "# ex : \n",
    "# init_deck(5,2)\n",
    "# returns : ['0-O', '0-E', '1-O', '1-E', '2-O', '2-E', '3-O', '3-E', '4-O', '4-E']\n",
    "\n",
    "########################################################################################################\n",
    "\n",
    "# given a list of agents and a deck, it samples hands for all the agents\n",
    "\n",
    "def deal_cards(agent_lst,deck,seed=None):\n",
    "    random.seed(seed)\n",
    "    deck_size = len(deck)\n",
    "    for agent in agent_lst:\n",
    "        dealt_hand = random.sample(deck, deck_size // len(agent_lst))\n",
    "        deck = [card for card in deck if card not in dealt_hand]\n",
    "        agent.hand = dealt_hand\n",
    "    return agent_lst\n",
    "\n",
    "# ex: \n",
    "# deck = init_deck(5,2)\n",
    "# agent_lst = [agent() for k in range(2)]\n",
    "# print([agent.hand for agent in deal_cards(agent_lst,deck,seed=1234)])\n",
    "# returns : [['3-E', '0-E', '0-O', '5-O', '4-E', '2-E'], ['5-E', '1-O', '4-O', '1-E', '3-O', '2-O']]\n",
    "\n",
    "########################################################################################################\n",
    "\n",
    "# generates a gym action space for the environment\n",
    "\n",
    "def action_space(game):\n",
    "    \n",
    "    action_list = [[]]\n",
    "    deck, numbers, suits = game.deck()\n",
    "    action_counter = 1\n",
    "    clustered_deck = [[card for card in deck if int(card[0])== number] for number in numbers]\n",
    "    cluster_actions = []\n",
    "    \n",
    "    for cluster in clustered_deck:\n",
    "        cluster_actions = list(powerset(cluster))\n",
    "        action_list += [list(action) for action in cluster_actions if len(list(action))!=0]\n",
    "    \n",
    "    action_space = spaces.Discrete(len(action_list))\n",
    "    return action_space, action_list\n",
    "\n",
    "# game = president(2,5,2)\n",
    "# print(action_space(game))\n",
    "# returns (Discrete(16), [[], ['0-O'], ['0-E'], ['0-O', '0-E'], ['1-O'], ['1-E'], ['1-O', '1-E'], ['2-O'], ['2-E'], ['2-O', '2-E'], ['3-O'], ['3-E'], ['3-O', '3-E'], ['4-O'], ['4-E'], ['4-O', '4-E']])\n",
    "\n",
    "########################################################################################################\n",
    "\n",
    "\n",
    "# generates a gym state space for the environment\n",
    "\n",
    "def state_space(game):\n",
    "    \n",
    "    deck, numbers, suits = game.deck()\n",
    "    \n",
    "\n",
    "    return state_space, state_list"
   ]
  },
  {
   "cell_type": "code",
   "execution_count": 92,
   "id": "e5314378",
   "metadata": {},
   "outputs": [
    {
     "name": "stdout",
     "output_type": "stream",
     "text": [
      "['0-O', '0-E', '1-O', '1-E', '2-O', '2-E', '3-O', '3-E', '4-O', '4-E']\n",
      "2\n"
     ]
    }
   ],
   "source": [
    "game = president(2,5,2)\n",
    "n_players = game.n_players\n",
    "deck, numbers, suits = game.deck()\n",
    "hand_state_list = list(combinations(deck,len(deck)//n_players))\n",
    "if n_players == 2:\n",
    "    for hand1 in hand_state_list:\n",
    "        for hand2 in hand_state_list\n",
    "print(deck)\n",
    "print(len(state_list))"
   ]
  },
  {
   "cell_type": "code",
   "execution_count": 56,
   "id": "a3a4ee95",
   "metadata": {},
   "outputs": [],
   "source": [
    "class agent:\n",
    "    def __init__(self):\n",
    "        self.hand = []\n",
    "        self.q_table = []"
   ]
  },
  {
   "cell_type": "code",
   "execution_count": 87,
   "id": "33614b7b",
   "metadata": {},
   "outputs": [],
   "source": [
    "\n",
    "class president(gym.Env):\n",
    "    def __init__(self, n_players, n_numbers, n_suits):\n",
    "        super().__init__()\n",
    "        self.n_players = n_players\n",
    "        self.n_numbers = n_numbers\n",
    "        self.n_suits = n_suits\n",
    "        \n",
    "    def deck(self):\n",
    "        self.deck, self.numbers, self.suits = init_deck(self.n_numbers,self.n_suits)\n",
    "        return self.deck, self.numbers, self.suits\n",
    "        \n",
    "    def step():\n",
    "        reward = -1\n",
    "        if is_valid(action):\n",
    "            reward += decoded_action(action)[0]\n",
    "        else:\n",
    "            reward += -100000\n",
    "        if end == True:\n",
    "            reward += placement_reward\n",
    "        return new_state, reward, done\n",
    "    \n",
    "    def render():\n",
    "        pass\n",
    "    def reset():\n",
    "        pass\n",
    "\n",
    "def q_table():\n",
    "    pass"
   ]
  },
  {
   "cell_type": "code",
   "execution_count": null,
   "id": "66e78e69",
   "metadata": {},
   "outputs": [],
   "source": []
  }
 ],
 "metadata": {
  "kernelspec": {
   "display_name": "Python 3 (ipykernel)",
   "language": "python",
   "name": "python3"
  },
  "language_info": {
   "codemirror_mode": {
    "name": "ipython",
    "version": 3
   },
   "file_extension": ".py",
   "mimetype": "text/x-python",
   "name": "python",
   "nbconvert_exporter": "python",
   "pygments_lexer": "ipython3",
   "version": "3.8.13"
  }
 },
 "nbformat": 4,
 "nbformat_minor": 5
}
